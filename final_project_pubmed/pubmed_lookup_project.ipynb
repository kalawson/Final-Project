{
 "cells": [
  {
   "cell_type": "markdown",
   "metadata": {},
   "source": [
    "To start, we need to import the modules we'll need later and provide a valid email address to use with Entrez."
   ]
  },
  {
   "cell_type": "code",
   "execution_count": 1,
   "metadata": {},
   "outputs": [],
   "source": [
    "import pandas as pd\n",
    "import matplotlib.pyplot as plt\n",
    "from Bio import Entrez\n",
    "import csv\n",
    "from collections import defaultdict"
   ]
  },
  {
   "cell_type": "code",
   "execution_count": 2,
   "metadata": {},
   "outputs": [],
   "source": [
    "Entrez.email = 'kalawson@vassar.edu'"
   ]
  },
  {
   "cell_type": "markdown",
   "metadata": {},
   "source": [
    "Next, we decide what we want to search for and open an API to access PubMed data, using ESearch to allow us to retrieve full records from PubMed.  Below, define the keyword you want to search for.  It should be formatted 'like+this'.  A search term for alcohol addiction has been given as an example.  You can also search in a specific area, like in the title, list of authors ('AuthorList'), or journal in which the article was published ('FullJournalName') and specify the range of years you're interested in."
   ]
  },
  {
   "cell_type": "code",
   "execution_count": 14,
   "metadata": {},
   "outputs": [],
   "source": [
    "keyword = 'alcoholism'\n",
    "area = 'Title'\n",
    "start_year_range = '2005'\n",
    "end_year_range = '2015'"
   ]
  },
  {
   "cell_type": "markdown",
   "metadata": {},
   "source": [
    "ESearch gives us a lot of information, but it's in the form of ID numbers, not titles, authors, or any other relevant information.  To make it easier to read, we'll use ESummary to search PubMed using the ID numbers we got from ESearch."
   ]
  },
  {
   "cell_type": "code",
   "execution_count": 26,
   "metadata": {},
   "outputs": [],
   "source": [
    "def search_pubmed(keyword, area, start_year_range, end_year_range):\n",
    "    \"\"\"Function to search PubMed for a user defined keyword, in a user defined area and time frame.  Output is a list of up to 20 papers that fit these specifications, formated as dictionaries containing information on authors, publication date, number of citations, and other relevant attributes.\"\"\"\n",
    "    handle = Entrez.esearch(db='pubmed', term=keyword, field = area, retmode='xml', idtype='acc', mindate=start_year_range, maxdate=end_year_range)\n",
    "    data = Entrez.read(handle)\n",
    "        \n",
    "    UID = data['IdList']\n",
    "    \n",
    "    attributes_list = []\n",
    "    \n",
    "    for ID in range(len(UID)):\n",
    "        record = Entrez.esummary(db='pubmed', id=UID[ID])\n",
    "        attributes_list.append(Entrez.read(record))\n",
    "\n",
    "    return attributes_list"
   ]
  },
  {
   "cell_type": "code",
   "execution_count": 34,
   "metadata": {},
   "outputs": [],
   "source": [
    "attributes_list = search_pubmed(keyword, area, start_year_range, end_year_range)"
   ]
  },
  {
   "cell_type": "markdown",
   "metadata": {},
   "source": [
    "This returns all the attributes for the most recent articles published in PubMed that include our keyword.  We can compile these attributes into a .csv file to make them easy to share."
   ]
  },
  {
   "cell_type": "code",
   "execution_count": 35,
   "metadata": {},
   "outputs": [],
   "source": [
    "csv_columns = ['Item','Id','PubDate', 'EPubDate', 'Source', 'AuthorList', 'LastAuthor', 'Title', 'Volume', 'Issue', 'Pages', 'LangList', 'NlmUniqueID', 'ISSN', 'ESSN', 'PubTypeList', 'RecordStatus', 'PubStatus', 'ArticleIds', 'DOI', 'History', 'References', 'HasAbstract', 'PmcRefCount', 'FullJournalName', 'ELocationID', 'SO']\n",
    "dict_data = attributes_list\n",
    "csv_file = \"PubMed_Output.csv\"\n",
    "try:\n",
    "    with open(csv_file, 'w') as csvfile:\n",
    "        writer = csv.DictWriter(csvfile, fieldnames=csv_columns)\n",
    "        writer.writeheader()\n",
    "        for info in dict_data:\n",
    "            for attribute_info in info:\n",
    "                writer.writerow(attribute_info)\n",
    "except IOError:\n",
    "    print(\"I/O error\")"
   ]
  },
  {
   "cell_type": "markdown",
   "metadata": {},
   "source": [
    "After formatting the citation and putting it into a .csv file, we can to display the data as a bar graph of number of references for each of the articles."
   ]
  },
  {
   "cell_type": "code",
   "execution_count": 36,
   "metadata": {},
   "outputs": [
    {
     "name": "stdout",
     "output_type": "stream",
     "text": [
      "['Pascual Pastor F', 'Varodayan F', 'Liu H', 'Pitel AL', 'Wan GR', 'Naegle M', 'Dabur R', 'Porjesz B', 'Desmond JE', 'Ben Hadj Ali B', 'Cservenka A', 'Sinha R', 'Choate PW', 'Nau JY', 'Petrakis IL', 'Stefanski R', 'Theiss JA', 'Serecigni JG', 'Fang YW', 'Bermpohl F']\n"
     ]
    }
   ],
   "source": [
    "citation = defaultdict(list)\n",
    "\n",
    "for cite in attributes_list: \n",
    "    for attribute_cite in cite:\n",
    "        for key, value in attribute_cite.items():\n",
    "            citation[key].append(value)\n",
    "\n",
    "print(citation['LastAuthor'])"
   ]
  },
  {
   "cell_type": "code",
   "execution_count": 37,
   "metadata": {},
   "outputs": [
    {
     "data": {
      "image/png": "[encoded data removed]",
      "text/plain": [
       "<Figure size 432x288 with 1 Axes>"
      ]
     },
     "metadata": {
      "needs_background": "light"
     },
     "output_type": "display_data"
    }
   ],
   "source": [
    "attribute_data_plot = plt.barh(citation['LastAuthor'], citation['PmcRefCount'])\n",
    "plt.ylabel = 'Number of References'\n",
    "plt.xlabel = 'Author'\n",
    "plt.title = 'Number of References by Author'\n",
    "plt.show()"
   ]
  },
  {
   "cell_type": "markdown",
   "metadata": {},
   "source": [
    "Alternatively, if you chose to search by author instead of title at the top, you can display a bar graph to see that author's most cited works."
   ]
  },
  {
   "cell_type": "code",
   "execution_count": 11,
   "metadata": {},
   "outputs": [],
   "source": [
    "#author_data  = plt.barh(citation['Title'], citation['PmcRefCount'])\n",
    "#plt.ylabel = 'Number of References'\n",
    "#plt.xlabel = 'Title'\n",
    "#plt.title = \"Most Cited Publications\"\n",
    "#plt.show()"
   ]
  }
 ],
 "metadata": {
  "kernelspec": {
   "display_name": "Python 3",
   "language": "python",
   "name": "python3"
  },
  "language_info": {
   "codemirror_mode": {
    "name": "ipython",
    "version": 3
   },
   "file_extension": ".py",
   "mimetype": "text/x-python",
   "name": "python",
   "nbconvert_exporter": "python",
   "pygments_lexer": "ipython3",
   "version": "3.7.3"
  }
 },
 "nbformat": 4,
 "nbformat_minor": 4
}
