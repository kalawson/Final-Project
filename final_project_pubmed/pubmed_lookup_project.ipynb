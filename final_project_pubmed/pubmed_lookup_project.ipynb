{
 "cells": [
  {
   "cell_type": "markdown",
   "metadata": {},
   "source": [
    "To start, we need to import the modules we'll need later"
   ]
  },
		{
   "cell_type": "code",
   "execution_count": 1,
   "metadata": {},
   "outputs": [],
   "source": [
    "import pandas as pd\n",
    "import numpy as np\n",
    "import matplotlib as plt",
				"from Bio import Entrez"
   ]
  },
  {
   "cell_type": "markdown",
   "metadata": {},
   "source": [
    "Next, we decide what we want to search for and open an API to access PubMed data, using ESearch to allow us to retrieve full records from PubMed.  Below, define the keyword you want to search for.  It should be formatted 'like+this'.  A search term for alcohol addiction has been given as an example.  You must also provide a valid email address to use with Entrez."
   ]
  },
  {
   "cell_type": "code",
   "execution_count": null,
   "metadata": {},
   "outputs": [],
   "source": [
    "keyword = 'alcohol+addiction'"
   ]
  },
		{
   "cell_type": "code",
   "execution_count": null,
   "metadata": {},
   "outputs": [],
   "source": [
    "Entrez.email = 'kalawson@vassar.edu'"
   ]
  },
  {
   "cell_type": "code",
   "execution_count": null,
   "metadata": {},
   "outputs": [],
   "source": [
    "handle = Entrez.esearch(db='pubmed', term=keyword, field = 'tile', retmode='xml', idtype='acc')",
	   "\n",
    "data = Entrez.read(handle)"
   ]
  },
  {
   "cell_type": "markdown",
   "metadata": {},
   "source": [
    "ESearch gives us a lot of information, but it's in the form of ID numbers, not titles, authors, or any other relevant information.  To make it easier to read, we'll use ESummary to search PubMed using the ID numbers we got from ESearch."
   ]
  },
  {
   "cell_type": "code",
   "execution_count": null,
   "metadata": {},
   "outputs": [],
   "source": [
    "UID = data['IdList']",
	   "\n",
    "record = Entrez.esummary(db='pubmed', id=UID[1])",
    "attributes_list = Entrez.read(record)",
	   "\n",
    "for attributes in attributes_list:",
	   "for key, value in attributes.items():",
	   	"print(key, value)"
   ]
  },
  {
   "cell_type": "code",
   "execution_count": null,
   "metadata": {},
   "outputs": [],
   "source": [
    "#searching PubMed for a specific author:\n",
    "data_author = pd.read_csv('citation_data.csv', header=True)\n",
    "\n",
    "#assumes that we only have one author in our data\n",
    "data_author_pub = data_author[['year', 'title']]\n",
    "data_author_pub = data_author_pub['title'].nunique().sum().groupby('year')\n",
    "\n",
    "author_pub = plt.plot(data_author_pub[\"year\"], data_author_pub[\"nunique_title\"])\n",
    "author_pub.set_xlabel = \"Year\"\n",
    "author_pub.set_ylabel = \"Number of publications\"\n",
    "author_pub.set_title = \"Author's publications by year\"\n",
    "plt.show()\n",
    "\n",
    "\n",
    "#searching PubMed by keyword:\n",
    "data_keyword = pd.read_csv('keywords.csv', header=True)\n",
    "\n",
    "#assumes that we only have the one keyword in our data\n",
    "data_keyword_mentions = data_keyword[['year', 'title']]\n",
    "data_keyword_mentions = data_keyword_mentions['title'].nunique().sum().groupby('year')\n",
    "\n",
    "keyword_mentions = plt.plot(data_keyword_mentions[\"year\"], data_keyword_mentions[\"nunique_title\"])\n",
    "keyword_mentions.set_xlabel = \"Year\"\n",
    "keyword_mentions.set_ylabel = \"Number of mentions\"\n",
    "keyword_mentions.set_title = \"Keyword mentions by year\"\n",
    "plt.show()\n",
    "\n",
    "\n",
    "#if we can get both datasets to coexist:\n",
    "fig, data = plt.subplots(2, 1)\n",
    "data[0].plot(data_author_pub[\"year\"], data_author_pub[\"number_publications\"],color='b')\n",
    "data[1].plot(data_keyword_mentions[\"year\"], data_keyword_mentions[\"number_mentions\"],color='r')\n",
    "data[0].set_ylabel(\"Number of Publications\")\n",
    "data[1].set_ylabel(\"Number of Mentions\")\n",
    "data[1].set_xlabel(\"Year\")\n",
    "plt.show()"
   ]
  }
 ],
 "metadata": {
  "kernelspec": {
   "display_name": "Python 3",
   "language": "python",
   "name": "python3"
  },
  "language_info": {
   "codemirror_mode": {
    "name": "ipython",
    "version": 3
   },
   "file_extension": ".py",
   "mimetype": "text/x-python",
   "name": "python",
   "nbconvert_exporter": "python",
   "pygments_lexer": "ipython3",
   "version": "3.7.3"
  }
 },
 "nbformat": 4,
 "nbformat_minor": 4
}
