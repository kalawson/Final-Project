{
 "cells": [
  {
   "cell_type": "code",
   "execution_count": 1,
   "metadata": {},
   "outputs": [],
   "source": [
    "#Import the modules we'll need later\n",
    "import pandas as pd\n",
    "import numpy as np\n",
    "import matplotlib as plt"
   ]
  },
  {
   "cell_type": "markdown",
   "metadata": {},
   "source": [
    "open an API to access PubMed data, using EFetch to allow us to retrieve full records from PubMed"
   ]
  },
  {
   "cell_type": "code",
   "execution_count": null,
   "metadata": {},
   "outputs": [],
   "source": [
    "https://eutils.ncbi.nlm.nih.gov/entrez/eutils/efetch.fcgi?db=pubmed&id=11748933,11700088&retmode=xml"
   ]
  },
  {
   "cell_type": "markdown",
   "metadata": {},
   "source": [
    "need to define a function that will take information from Pubmed according to our specifications\n",
    "this should list year of publication, a list of authors, and the journal,\n",
    "including issue and volume, in which the paper was published formatted as a full APA citation"
   ]
  },
  {
   "cell_type": "code",
   "execution_count": null,
   "metadata": {},
   "outputs": [],
   "source": [
    "citation_data = {\n",
    "    'title': data.title,\n",
    "    'authors': data.authors_et_al,\n",
    "    'year': data.year,\n",
    "    'journal': data.journal,\n",
    "    'volume': data.volume,\n",
    "    'issue': data.issue,\n",
    "    'pages': data.pages,\n",
    "}"
   ]
  },
  {
   "cell_type": "markdown",
   "metadata": {},
   "source": [
    "after formatting the citation and putting it into a .csv file, we need to display the data as a line plot graphed as author's publications by year or keyword mentions by year"
   ]
  },
  {
   "cell_type": "code",
   "execution_count": null,
   "metadata": {},
   "outputs": [],
   "source": [
    "#searching PubMed for a specific author:\n",
    "data_author = pd.read_csv('citation_data.csv', header=True)\n",
    "\n",
    "#assumes that we only have one author in our data\n",
    "data_author_pub = data_author[['year', 'title']]\n",
    "data_author_pub = data_author_pub['title'].nunique().sum().groupby('year')\n",
    "\n",
    "author_pub = plt.plot(data_author_pub[\"year\"], data_author_pub[\"nunique_title\"])\n",
    "author_pub.set_xlabel = \"Year\"\n",
    "author_pub.set_ylabel = \"Number of publications\"\n",
    "author_pub.set_title = \"Author's publications by year\"\n",
    "plt.show()\n",
    "\n",
    "\n",
    "#searching PubMed by keyword:\n",
    "data_keyword = pd.read_csv('keywords.csv', header=True)\n",
    "\n",
    "#assumes that we only have the one keyword in our data\n",
    "data_keyword_mentions = data_keyword[['year', 'title']]\n",
    "data_keyword_mentions = data_keyword_mentions['title'].nunique().sum().groupby('year')\n",
    "\n",
    "keyword_mentions = plt.plot(data_keyword_mentions[\"year\"], data_keyword_mentions[\"nunique_title\"])\n",
    "keyword_mentions.set_xlabel = \"Year\"\n",
    "keyword_mentions.set_ylabel = \"Number of mentions\"\n",
    "keyword_mentions.set_title = \"Keyword mentions by year\"\n",
    "plt.show()\n",
    "\n",
    "\n",
    "#if we can get both datasets to coexist:\n",
    "fig, data = plt.subplots(2, 1)\n",
    "data[0].plot(data_author_pub[\"year\"], data_author_pub[\"number_publications\"],color='b')\n",
    "data[1].plot(data_keyword_mentions[\"year\"], data_keyword_mentions[\"number_mentions\"],color='r')\n",
    "data[0].set_ylabel(\"Number of Publications\")\n",
    "data[1].set_ylabel(\"Number of Mentions\")\n",
    "data[1].set_xlabel(\"Year\")\n",
    "plt.show()"
   ]
  }
 ],
 "metadata": {
  "kernelspec": {
   "display_name": "Python 3",
   "language": "python",
   "name": "python3"
  },
  "language_info": {
   "codemirror_mode": {
    "name": "ipython",
    "version": 3
   },
   "file_extension": ".py",
   "mimetype": "text/x-python",
   "name": "python",
   "nbconvert_exporter": "python",
   "pygments_lexer": "ipython3",
   "version": "3.7.3"
  }
 },
 "nbformat": 4,
 "nbformat_minor": 4
}
