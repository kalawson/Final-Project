{
 "cells": [
  {
   "cell_type": "markdown",
   "metadata": {},
   "source": [
    "To start, we need to import the modules we'll need later"
   ]
  },
  {
   "cell_type": "code",
   "execution_count": 11,
   "metadata": {},
   "outputs": [],
   "source": [
    "import pandas as pd\n",
    "import matplotlib.pyplot as plt\n",
    "from Bio import Entrez\n",
    "import csv\n",
    "from collections import defaultdict"
   ]
  },
  {
   "cell_type": "markdown",
   "metadata": {},
   "source": [
    "Next, we decide what we want to search for and open an API to access PubMed data, using ESearch to allow us to retrieve full records from PubMed.  Below, define the keyword you want to search for.  It should be formatted 'like+this'.  A search term for alcohol addiction has been given as an example.  You must also provide a valid email address to use with Entrez."
   ]
  },
  {
   "cell_type": "code",
   "execution_count": 12,
   "metadata": {},
   "outputs": [],
   "source": [
    "keyword = 'alcohol+addiction'"
   ]
  },
  {
   "cell_type": "code",
   "execution_count": 13,
   "metadata": {},
   "outputs": [],
   "source": [
    "Entrez.email = 'kalawson@vassar.edu'"
   ]
  },
  {
   "cell_type": "code",
   "execution_count": 14,
   "metadata": {},
   "outputs": [],
   "source": [
    "handle = Entrez.esearch(db='pubmed', term=keyword, field = 'tile', retmode='xml', idtype='acc', mindate='2000', maxdate='2010')\n",
    "data = Entrez.read(handle)"
   ]
  },
  {
   "cell_type": "markdown",
   "metadata": {},
   "source": [
    "ESearch gives us a lot of information, but it's in the form of ID numbers, not titles, authors, or any other relevant information.  To make it easier to read, we'll use ESummary to search PubMed using the ID numbers we got from ESearch."
   ]
  },
  {
   "cell_type": "code",
   "execution_count": 15,
   "metadata": {},
   "outputs": [],
   "source": [
    "UID = data['IdList']"
   ]
  },
  {
   "cell_type": "code",
   "execution_count": 16,
   "metadata": {},
   "outputs": [
    {
     "name": "stdout",
     "output_type": "stream",
     "text": [
      "Item []\n",
      "Id 21192139\n",
      "PubDate 2011 Feb\n",
      "EPubDate \n",
      "Source J Clin Psychopharmacol\n",
      "AuthorList ['Kranzler HR', 'Armeli S', 'Tennen H', 'Covault J', 'Feinn R', 'Arias AJ', 'Pettinati H', 'Oncken C']\n",
      "LastAuthor Oncken C\n",
      "Title A double-blind, randomized trial of sertraline for alcohol dependence: moderation by age of onset [corrected] and 5-hydroxytryptamine transporter-linked promoter region genotype.\n",
      "Volume 31\n",
      "Issue 1\n",
      "Pages 22-30\n",
      "LangList ['English']\n",
      "NlmUniqueID 8109496\n",
      "ISSN 0271-0749\n",
      "ESSN 1533-712X\n",
      "PubTypeList ['Journal Article', 'Randomized Controlled Trial']\n",
      "RecordStatus PubMed - indexed for MEDLINE\n",
      "PubStatus ppublish\n",
      "ArticleIds {'medline': [], 'pubmed': ['21192139'], 'doi': '10.1097/JCP.0b013e31820465fa', 'pii': '00004714-201102000-00006', 'pmc': 'PMC3130300', 'mid': 'NIHMS302919', 'rid': '21192139', 'eid': '21192139', 'pmcid': 'pmc-id: PMC3130300;manuscript-id: NIHMS302919;'}\n",
      "DOI 10.1097/JCP.0b013e31820465fa\n",
      "History {'medline': ['2011/10/14 06:00'], 'pubmed': ['2010/12/31 06:00'], 'entrez': '2010/12/31 06:00'}\n",
      "References ['J Clin Psychopharmacol. 2011 Oct;31(5):576']\n",
      "HasAbstract 1\n",
      "PmcRefCount 37\n",
      "FullJournalName Journal of clinical psychopharmacology\n",
      "ELocationID doi: 10.1097/JCP.0b013e31820465fa\n",
      "SO 2011 Feb;31(1):22-30\n"
     ]
    }
   ],
   "source": [
    "record_1 = Entrez.esummary(db='pubmed', id=UID[1])\n",
    "attributes_list_1 = Entrez.read(record_1)\n",
    "\n",
    "for attributes_1 in attributes_list_1:\n",
    "    for key1, value1 in attributes_1.items():\n",
    "        print(key1, value1)"
   ]
  },
  {
   "cell_type": "code",
   "execution_count": 7,
   "metadata": {},
   "outputs": [
    {
     "name": "stdout",
     "output_type": "stream",
     "text": [
      "Item []\n",
      "Id 31814553\n",
      "PubDate 2019 Dec 9\n",
      "EPubDate 2019 Dec 9\n",
      "Source Curr Pharm Des\n",
      "AuthorList ['Buján GE', 'Serra HA', 'Molina SJ', 'Guelman LR']\n",
      "LastAuthor Guelman LR\n",
      "Title Prevention of Brain Damage Triggered by Alcohol Consumption during Adolescence: Focus on Oxidative Stress.\n",
      "Volume \n",
      "Issue \n",
      "Pages \n",
      "LangList ['English']\n",
      "NlmUniqueID 9602487\n",
      "ISSN 1381-6128\n",
      "ESSN 1873-4286\n",
      "PubTypeList ['Journal Article']\n",
      "RecordStatus PubMed - as supplied by publisher\n",
      "PubStatus aheadofprint\n",
      "ArticleIds {'medline': [], 'pubmed': ['31814553'], 'pii': 'CPD-EPUB-102838', 'doi': '10.2174/1381612825666191209121735', 'rid': '31814553', 'eid': '31814553'}\n",
      "DOI 10.2174/1381612825666191209121735\n",
      "History {'medline': ['2019/12/10 06:00'], 'pubmed': ['2019/12/10 06:00'], 'received': '2019/08/01 00:00', 'revised': '2019/08/23 00:00', 'accepted': '2019/08/23 00:00', 'entrez': '2019/12/10 06:00'}\n",
      "References []\n",
      "HasAbstract 1\n",
      "PmcRefCount 0\n",
      "FullJournalName Current pharmaceutical design\n",
      "ELocationID doi: 10.2174/1381612825666191209121735\n",
      "SO 2019 Dec 9;\n"
     ]
    }
   ],
   "source": [
    "record_2 = Entrez.esummary(db='pubmed', id=UID[2])\n",
    "attributes_list_2 = Entrez.read(record_2)\n",
    "\n",
    "for attributes_2 in attributes_list_2:\n",
    "    for key2, value2 in attributes_2.items():\n",
    "        print(key2, value2)"
   ]
  },
  {
   "cell_type": "markdown",
   "metadata": {},
   "source": [
    "This returns all the attributes for the most recent articles published in PubMed that include our keyword.  We can compile these attributes into a .csv file to make them easy to share."
   ]
  },
  {
   "cell_type": "code",
   "execution_count": 8,
   "metadata": {},
   "outputs": [],
   "source": [
    "import csv\n",
    "csv_columns = ['Item','Id','PubDate', 'EPubDate', 'Source', 'AuthorList', 'LastAuthor', 'Title', 'Volume', 'Issue', 'Pages', 'LangList', 'NlmUniqueID', 'ISSN', 'ESSN', 'PubTypeList', 'RecordStatus', 'PubStatus', 'ArticleIds', 'DOI', 'History', 'References', 'HasAbstract', 'PmcRefCount', 'FullJournalName', 'ELocationID', 'SO']\n",
    "dict_data = [attributes_1, attributes_2]\n",
    "csv_file = \"PubMed_Output.csv\"\n",
    "try:\n",
    "    with open(csv_file, 'w') as csvfile:\n",
    "        writer = csv.DictWriter(csvfile, fieldnames=csv_columns)\n",
    "        writer.writeheader()\n",
    "        for info in dict_data:\n",
    "            writer.writerow(info)\n",
    "except IOError:\n",
    "    print(\"I/O error\")"
   ]
  },
  {
   "cell_type": "markdown",
   "metadata": {},
   "source": [
    "After formatting the citation and putting it into a .csv file, we can to display the data as a bar graph of number of references for each of the articles."
   ]
  },
  {
   "cell_type": "code",
   "execution_count": 9,
   "metadata": {},
   "outputs": [
    {
     "name": "stdout",
     "output_type": "stream",
     "text": [
      "['Preston KL', 'Guelman LR']\n"
     ]
    }
   ],
   "source": [
    "citation = defaultdict(list)\n",
    "\n",
    "for cite in (attributes_1, attributes_2): \n",
    "    for key, value in cite.items():\n",
    "        citation[key].append(value)\n",
    "\n",
    "print(citation['LastAuthor'])"
   ]
  },
  {
   "cell_type": "code",
   "execution_count": 10,
   "metadata": {},
   "outputs": [
    {
     "data": {
      "image/png": "[encoded data removed]",
      "text/plain": [
       "<Figure size 432x288 with 1 Axes>"
      ]
     },
     "metadata": {
      "needs_background": "light"
     },
     "output_type": "display_data"
    }
   ],
   "source": [
    "attribute_data_plot = plt.bar(citation['LastAuthor'], citation['PmcRefCount'])\n",
    "plt.ylabel = 'Number of References'\n",
    "plt.xlabel = 'Author'\n",
    "plt.title = 'Number of References by Author'\n",
    "plt.show()"
   ]
  },
  {
   "cell_type": "markdown",
   "metadata": {},
   "source": [
    "Alternatively, if you chose to search by author instead of title at the top, you can display a bar graph to see that author's most cited works."
   ]
  },
  {
   "cell_type": "code",
   "execution_count": null,
   "metadata": {},
   "outputs": [],
   "source": [
    "#author_data  = plt.bar(citation['Title'], citation['PmcRefCount'])\n",
    "#plt.ylabel = 'Number of References'\n",
    "#plt.xlabel = 'Title\n",
    "#plt.set_title = \"Most Cited Publications\"\n",
    "#plt.show()"
   ]
  }
 ],
 "metadata": {
  "kernelspec": {
   "display_name": "Python 3",
   "language": "python",
   "name": "python3"
  },
  "language_info": {
   "codemirror_mode": {
    "name": "ipython",
    "version": 3
   },
   "file_extension": ".py",
   "mimetype": "text/x-python",
   "name": "python",
   "nbconvert_exporter": "python",
   "pygments_lexer": "ipython3",
   "version": "3.7.3"
  }
 },
 "nbformat": 4,
 "nbformat_minor": 4
}
